{
 "cells": [
  {
   "cell_type": "code",
   "execution_count": 1,
   "metadata": {},
   "outputs": [],
   "source": [
    "import re"
   ]
  },
  {
   "cell_type": "markdown",
   "metadata": {},
   "source": [
    "### Raw strings"
   ]
  },
  {
   "cell_type": "code",
   "execution_count": 2,
   "metadata": {},
   "outputs": [
    {
     "name": "stdout",
     "output_type": "stream",
     "text": [
      "Hello\n",
      "world\n"
     ]
    }
   ],
   "source": [
    "print('Hello\\nworld')"
   ]
  },
  {
   "cell_type": "code",
   "execution_count": 3,
   "metadata": {},
   "outputs": [
    {
     "name": "stdout",
     "output_type": "stream",
     "text": [
      "Hello\\nworld\n"
     ]
    }
   ],
   "source": [
    "print(r'Hello\\nworld')"
   ]
  },
  {
   "cell_type": "markdown",
   "metadata": {},
   "source": [
    "Always use raw strings with regular expressions! We'll go over an example of why that's the case later on, once we've gotten our feet wet with regex and it'll make more sense."
   ]
  },
  {
   "cell_type": "markdown",
   "metadata": {},
   "source": [
    "### Basics"
   ]
  },
  {
   "cell_type": "code",
   "execution_count": 4,
   "metadata": {},
   "outputs": [],
   "source": [
    "text_to_search = '''\n",
    "abcdefghijklmnopqurtuvwxyz\n",
    "ABCDEFGHIJKLMNOPQRSTUVWXYZ\n",
    "1234567890\n",
    "\n",
    "Go GoGo\n",
    "\n",
    "MetaCharacters (Need to be escaped):\n",
    ". ^ $ * + ? { } [ ] \\ | ( )\n",
    "\n",
    "github.com\n",
    "github*com  (don't match this)\n",
    "\n",
    "321-555-4321\n",
    "123.555.1234\n",
    "123*555*1234\n",
    "800-555-1234\n",
    "900-555-1234\n",
    "\n",
    "Mr. Metz\n",
    "Mr Smith\n",
    "Ms Davis\n",
    "Mrs. Robinson\n",
    "Mr. T\n",
    "\n",
    "The cat in the hat sat on a mat\n",
    "'''"
   ]
  },
  {
   "cell_type": "code",
   "execution_count": 5,
   "metadata": {},
   "outputs": [
    {
     "name": "stdout",
     "output_type": "stream",
     "text": [
      "<_sre.SRE_Match object; span=(1, 4), match='abc'>\n"
     ]
    },
    {
     "data": {
      "text/plain": [
       "'abc'"
      ]
     },
     "execution_count": 5,
     "metadata": {},
     "output_type": "execute_result"
    }
   ],
   "source": [
    "# basic match\n",
    "pattern = re.compile(r'abc')\n",
    "matches = pattern.finditer(text_to_search)\n",
    "for match in matches:\n",
    "    print(match)\n",
    "\n",
    "text_to_search[1:4]"
   ]
  },
  {
   "cell_type": "code",
   "execution_count": 6,
   "metadata": {},
   "outputs": [
    {
     "name": "stdout",
     "output_type": "stream",
     "text": [
      "<_sre.SRE_Match object; span=(142, 152), match='github.com'>\n"
     ]
    }
   ],
   "source": [
    "# finding special characters by escaping them\n",
    "pattern = re.compile(r'github\\.com')  # . \\. github\\.com\n",
    "matches = pattern.finditer(text_to_search)\n",
    "for match in matches:\n",
    "    print(match)"
   ]
  },
  {
   "cell_type": "code",
   "execution_count": 7,
   "metadata": {},
   "outputs": [
    {
     "name": "stdout",
     "output_type": "stream",
     "text": [
      "<_sre.SRE_Match object; span=(72, 74), match='Go'>\n"
     ]
    }
   ],
   "source": [
    "# regex special characters\n",
    "pattern = re.compile(r'\\BGo')  # . \\w \\W \\d \\D \\s \\bGo \\BGo\n",
    "matches = pattern.finditer(text_to_search)\n",
    "for match in matches:\n",
    "    print(match)"
   ]
  },
  {
   "cell_type": "code",
   "execution_count": 8,
   "metadata": {},
   "outputs": [],
   "source": [
    "# beginning and end of a string\n",
    "phrase = \"Begin a sentence and bring it to an end\"\n",
    "pattern = re.compile(r'q$')  # ^Begin ^q end$ q$\n",
    "matches = pattern.finditer(phrase)\n",
    "for match in matches:\n",
    "    print(match)"
   ]
  },
  {
   "cell_type": "code",
   "execution_count": 9,
   "metadata": {},
   "outputs": [
    {
     "name": "stdout",
     "output_type": "stream",
     "text": [
      "<_sre.SRE_Match object; span=(193, 205), match='800-555-1234'>\n",
      "<_sre.SRE_Match object; span=(206, 218), match='900-555-1234'>\n"
     ]
    }
   ],
   "source": [
    "# matching phone numbers\n",
    "pattern = re.compile(r'[89]00[-.]\\d{3}[-.]\\d{4}')\n",
    "# \\d\\d\\d.\\d\\d\\d.\\d\\d\\d\\d\n",
    "# exact number: \\d{3}.\\d{3}.\\d{4} \\d{3}-\\d{3}-\\d{4} \\d{3}\\.\\d{3}\\.\\d{4}\n",
    "# using character set: \\d{3}[-.]\\d{3}[-.]\\d{4} 800[-.]\\d{3}[-.]\\d{4} \\d00[-.]\\d{3}[-.]\\d{4} [89]00[-.]\\d{3}[-.]\\d{4}\n",
    "matches = pattern.finditer(text_to_search)\n",
    "for match in matches:\n",
    "    print(match)"
   ]
  },
  {
   "cell_type": "code",
   "execution_count": 10,
   "metadata": {},
   "outputs": [
    {
     "name": "stdout",
     "output_type": "stream",
     "text": [
      "<_sre.SRE_Match object; span=(272, 275), match='cat'>\n",
      "<_sre.SRE_Match object; span=(283, 286), match='hat'>\n",
      "<_sre.SRE_Match object; span=(287, 290), match='sat'>\n"
     ]
    }
   ],
   "source": [
    "# matching what's in and not in character set\n",
    "pattern = re.compile(r'[^m]at')  # [1-5] [^1-5] [chs]at [^m]at \n",
    "matches = pattern.finditer(text_to_search)\n",
    "for match in matches:\n",
    "    print(match)"
   ]
  },
  {
   "cell_type": "code",
   "execution_count": 11,
   "metadata": {},
   "outputs": [
    {
     "name": "stdout",
     "output_type": "stream",
     "text": [
      "<_sre.SRE_Match object; span=(220, 228), match='Mr. Metz'>\n",
      "<_sre.SRE_Match object; span=(229, 237), match='Mr Smith'>\n",
      "<_sre.SRE_Match object; span=(238, 246), match='Ms Davis'>\n",
      "<_sre.SRE_Match object; span=(247, 260), match='Mrs. Robinson'>\n",
      "<_sre.SRE_Match object; span=(261, 266), match='Mr. T'>\n"
     ]
    }
   ],
   "source": [
    "# quanitifiers, groups, either or\n",
    "pattern = re.compile(r'(Mr|Ms|Mrs)\\.?\\s[A-Z]\\w*')\n",
    "# Mr\\. Mr\\.? Mr\\.?\\s[A-Z]\\w+ Mr\\.?\\s[A-Z]\\w*\n",
    "# M[rs]s?\\.?\\s[A-Z]\\w* M(r|s|rs)\\.?\\s[A-Z]\\w* (Mr|Ms|Mrs)\\.?\\s[A-Z]\\w*\n",
    "matches = pattern.finditer(text_to_search)\n",
    "for match in matches:\n",
    "    print(match)"
   ]
  },
  {
   "cell_type": "code",
   "execution_count": 12,
   "metadata": {},
   "outputs": [],
   "source": [
    "emails = '''\n",
    "JeffPBezos@gmail.com\n",
    "jeff.bezos@ucsd.edu\n",
    "jeff-321-bezos@amazon-work.net\n",
    "'''"
   ]
  },
  {
   "cell_type": "code",
   "execution_count": 13,
   "metadata": {},
   "outputs": [
    {
     "name": "stdout",
     "output_type": "stream",
     "text": [
      "<_sre.SRE_Match object; span=(1, 21), match='JeffPBezos@gmail.com'>\n",
      "<_sre.SRE_Match object; span=(22, 41), match='jeff.bezos@ucsd.edu'>\n",
      "<_sre.SRE_Match object; span=(42, 72), match='jeff-321-bezos@amazon-work.net'>\n"
     ]
    }
   ],
   "source": [
    "# matching emails\n",
    "pattern = re.compile(r'[\\w.+-]+@[\\w-]+\\.[a-zA-Z0-9-.]+')\n",
    "# \\w+@\\w+\\.com\n",
    "# [\\w.]+@\\w+\\.(com|edu)\n",
    "# [\\w.-]+@[\\w-]+\\.(com|edu|net)\n",
    "# [\\w.-]+@[\\w-]+\\.\\w+\n",
    "# actual: [\\w.+-]+@[a-zA-Z0-9-]+\\.[a-zA-Z0-9-.]+\n",
    "matches = pattern.finditer(emails)\n",
    "for match in matches:\n",
    "    print(match)"
   ]
  },
  {
   "cell_type": "code",
   "execution_count": 14,
   "metadata": {},
   "outputs": [],
   "source": [
    "urls = '''\n",
    "https://www.google.com\n",
    "http://jeffbezos.com\n",
    "https://youtube.com\n",
    "https://www.nasa.gov\n",
    "'''"
   ]
  },
  {
   "cell_type": "code",
   "execution_count": 15,
   "metadata": {},
   "outputs": [
    {
     "name": "stdout",
     "output_type": "stream",
     "text": [
      "\n",
      "google.com\n",
      "jeffbezos.com\n",
      "youtube.com\n",
      "nasa.gov\n",
      "\n"
     ]
    }
   ],
   "source": [
    "# matching urls and groups\n",
    "pattern = re.compile(r'https?://(www\\.)?(\\w+)(\\.\\w+)')\n",
    "# https?://(www\\.)?\\w+\\.\\w+\n",
    "# https?://(www\\.)?(\\w+)(\\.\\w+)\n",
    "\n",
    "# matches = pattern.finditer(urls)\n",
    "# for match in matches:\n",
    "#     print(match)\n",
    "#     print(match.group(3))\n",
    "#     print(f'{match.group(2)}{match.group(3)}')\n",
    "\n",
    "subbed_urls = pattern.sub(r'\\2\\3', urls)\n",
    "print(subbed_urls)"
   ]
  },
  {
   "cell_type": "markdown",
   "metadata": {},
   "source": [
    "### Other pattern methods and flags"
   ]
  },
  {
   "cell_type": "code",
   "execution_count": 16,
   "metadata": {},
   "outputs": [],
   "source": [
    "sentence = 'The cat in the hat sat on a mat'"
   ]
  },
  {
   "cell_type": "code",
   "execution_count": 17,
   "metadata": {},
   "outputs": [
    {
     "name": "stdout",
     "output_type": "stream",
     "text": [
      "cat\n",
      "hat\n",
      "sat\n"
     ]
    }
   ],
   "source": [
    "# return match only\n",
    "pattern = re.compile(r'[chs]at')\n",
    "matches = pattern.findall(sentence)\n",
    "for match in matches:\n",
    "    print(match)"
   ]
  },
  {
   "cell_type": "code",
   "execution_count": 18,
   "metadata": {},
   "outputs": [
    {
     "name": "stdout",
     "output_type": "stream",
     "text": [
      "None\n"
     ]
    }
   ],
   "source": [
    "# first match only\n",
    "pattern = re.compile(r'qqq')  # [chs]at qqq\n",
    "match = pattern.search(sentence)\n",
    "print(match)"
   ]
  },
  {
   "cell_type": "code",
   "execution_count": 19,
   "metadata": {},
   "outputs": [
    {
     "name": "stdout",
     "output_type": "stream",
     "text": [
      "Cat\n",
      "Hat\n",
      "sat\n"
     ]
    }
   ],
   "source": [
    "# case-insensitive\n",
    "sentence = 'The Cat in the Hat sat on a mat'\n",
    "pattern = re.compile(r'[chs]at', re.I)  # re.IGNORECASE re.I\n",
    "matches = pattern.findall(sentence)\n",
    "for match in matches:\n",
    "    print(match)"
   ]
  },
  {
   "cell_type": "markdown",
   "metadata": {},
   "source": [
    "### Why raw strings are required"
   ]
  },
  {
   "cell_type": "code",
   "execution_count": 20,
   "metadata": {},
   "outputs": [
    {
     "name": "stdout",
     "output_type": "stream",
     "text": [
      "in regex, the \\n denotes a new line\n"
     ]
    }
   ],
   "source": [
    "\n",
    "example = 'in regex, the \\\\n denotes a new line'\n",
    "print(example)"
   ]
  },
  {
   "cell_type": "code",
   "execution_count": 21,
   "metadata": {},
   "outputs": [
    {
     "name": "stdout",
     "output_type": "stream",
     "text": [
      "\\n\n"
     ]
    }
   ],
   "source": [
    "pattern = re.compile(r'\\\\n')\n",
    "matches = pattern.findall(example)\n",
    "for match in matches:\n",
    "    print(match)"
   ]
  },
  {
   "cell_type": "code",
   "execution_count": null,
   "metadata": {},
   "outputs": [],
   "source": []
  }
 ],
 "metadata": {
  "kernelspec": {
   "display_name": "Python 3",
   "language": "python",
   "name": "python3"
  },
  "language_info": {
   "codemirror_mode": {
    "name": "ipython",
    "version": 3
   },
   "file_extension": ".py",
   "mimetype": "text/x-python",
   "name": "python",
   "nbconvert_exporter": "python",
   "pygments_lexer": "ipython3",
   "version": "3.6.6"
  }
 },
 "nbformat": 4,
 "nbformat_minor": 2
}
