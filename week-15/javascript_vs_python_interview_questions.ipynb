{
 "cells": [
  {
   "cell_type": "markdown",
   "metadata": {},
   "source": [
    "### Python vs. JavaScript vs. other programming languages"
   ]
  },
  {
   "cell_type": "markdown",
   "metadata": {},
   "source": [
    "Python\n",
    "- dynamically typed\n",
    "- interpreted (slower, easier to work with)\n",
    "- back-end language\n",
    "- use cases: data science, general purpose\n",
    "\n",
    "JavaScript\n",
    "- dynamically typed\n",
    "- interpreted (slower, easier to work with)\n",
    "- front-end (browser) and back-end (node) language\n",
    "- use cases: web development\n",
    "\n",
    "Other languages (e.g. Java, C#)\n",
    "- statically typed\n",
    "- compiled (faster, harder to work with)"
   ]
  },
  {
   "cell_type": "markdown",
   "metadata": {},
   "source": [
    "Most popular technologies (2018): https://insights.stackoverflow.com/survey/2018#most-popular-technologies"
   ]
  },
  {
   "cell_type": "code",
   "execution_count": 1,
   "metadata": {},
   "outputs": [
    {
     "name": "stdout",
     "output_type": "stream",
     "text": [
      "Pixiedust database opened successfully\n"
     ]
    },
    {
     "data": {
      "text/html": [
       "\n",
       "        <div style=\"margin:10px\">\n",
       "            <a href=\"https://github.com/ibm-watson-data-lab/pixiedust\" target=\"_new\">\n",
       "                <img src=\"https://github.com/ibm-watson-data-lab/pixiedust/raw/master/docs/_static/pd_icon32.png\" style=\"float:left;margin-right:10px\"/>\n",
       "            </a>\n",
       "            <span>Pixiedust version 1.1.11</span>\n",
       "        </div>\n",
       "        "
      ],
      "text/plain": [
       "<IPython.core.display.HTML object>"
      ]
     },
     "metadata": {},
     "output_type": "display_data"
    },
    {
     "data": {
      "text/html": [
       "\n",
       "            <div style=\"margin:10px\"> \n",
       "            <a href=\"https://github.com/ibm-cds-labs/pixiedust_node\" target=\"_new\"> \n",
       "            <img src=\"https://github.com/ibm-cds-labs/pixiedust_node/raw/master/docs/_images/pdn_icon32.png\" style=\"float:left;margin-right:10px\"/> \n",
       "            </a> \n",
       "            <span>Pixiedust Node.js</span> \n",
       "            </div> \n"
      ],
      "text/plain": [
       "<IPython.core.display.HTML object>"
      ]
     },
     "metadata": {},
     "output_type": "display_data"
    },
    {
     "name": "stdout",
     "output_type": "stream",
     "text": [
      "pixiedust_node 0.2.5 started. Cells starting '%%node' may contain Node.js code.\n"
     ]
    }
   ],
   "source": [
    "# Write JavaScript in out notebook\n",
    "# https://medium.com/ibm-watson-data-lab/nodebooks-node-js-data-science-notebooks-aa140bea21ba\n",
    "import pixiedust_node"
   ]
  },
  {
   "cell_type": "markdown",
   "metadata": {},
   "source": [
    "### Remove duplicates from list or array"
   ]
  },
  {
   "cell_type": "code",
   "execution_count": 2,
   "metadata": {},
   "outputs": [],
   "source": [
    "lst = [1, 1, 2, 3, 3]"
   ]
  },
  {
   "cell_type": "code",
   "execution_count": 3,
   "metadata": {},
   "outputs": [
    {
     "data": {
      "text/plain": [
       "[1, 2, 3]"
      ]
     },
     "execution_count": 3,
     "metadata": {},
     "output_type": "execute_result"
    }
   ],
   "source": [
    "# retains order\n",
    "unique = []\n",
    "for item in lst:\n",
    "    if item not in unique:\n",
    "        unique.append(item)\n",
    "        \n",
    "unique"
   ]
  },
  {
   "cell_type": "code",
   "execution_count": 4,
   "metadata": {},
   "outputs": [
    {
     "data": {
      "text/plain": [
       "[1, 2, 3]"
      ]
     },
     "execution_count": 4,
     "metadata": {},
     "output_type": "execute_result"
    }
   ],
   "source": [
    "# doesn't always retain order\n",
    "list(set(lst))"
   ]
  },
  {
   "cell_type": "code",
   "execution_count": 5,
   "metadata": {},
   "outputs": [],
   "source": [
    "%%node\n",
    "var arr = [1, 1, 2, 3, 3];"
   ]
  },
  {
   "cell_type": "code",
   "execution_count": 6,
   "metadata": {},
   "outputs": [
    {
     "name": "stdout",
     "output_type": "stream",
     "text": [
      "... ... ..... ..... ...\n",
      "[ 1, 2, 3 ]\n",
      "\n"
     ]
    }
   ],
   "source": [
    "%%node\n",
    "var unique = []\n",
    "for (var i = 0; i < arr.length; i++) {\n",
    "    var item = arr[i]\n",
    "    if (!unique.includes(item)) {\n",
    "        unique.push(item)\n",
    "    }\n",
    "};\n",
    "console.log(unique);"
   ]
  },
  {
   "cell_type": "code",
   "execution_count": 7,
   "metadata": {},
   "outputs": [
    {
     "name": "stdout",
     "output_type": "stream",
     "text": [
      "... ..... ..... ...\n",
      "[ 1, 2, 3 ]\n",
      "\n"
     ]
    }
   ],
   "source": [
    "%%node\n",
    "var unique = []\n",
    "arr.forEach(item => {\n",
    "    if (!unique.includes(item)) {\n",
    "        unique.push(item)\n",
    "    }\n",
    "});\n",
    "console.log(unique);"
   ]
  },
  {
   "cell_type": "code",
   "execution_count": 8,
   "metadata": {},
   "outputs": [
    {
     "name": "stdout",
     "output_type": "stream",
     "text": [
      "[ 1, 2, 3 ]\n",
      "\n"
     ]
    }
   ],
   "source": [
    "%%node\n",
    "var my_set = new Set(arr);\n",
    "var unqiue = Array.from(my_set);\n",
    "console.log(unique);"
   ]
  },
  {
   "cell_type": "markdown",
   "metadata": {},
   "source": [
    "### Reverse a string"
   ]
  },
  {
   "cell_type": "code",
   "execution_count": 9,
   "metadata": {},
   "outputs": [
    {
     "data": {
      "text/plain": [
       "'olleh'"
      ]
     },
     "execution_count": 9,
     "metadata": {},
     "output_type": "execute_result"
    }
   ],
   "source": [
    "s = 'hello'\n",
    "s[::-1]"
   ]
  },
  {
   "cell_type": "code",
   "execution_count": 10,
   "metadata": {},
   "outputs": [
    {
     "name": "stdout",
     "output_type": "stream",
     "text": [
      "... ...\n",
      "olleh\n"
     ]
    }
   ],
   "source": [
    "%%node\n",
    "var s = 'hello';\n",
    "var rev = '';\n",
    "for (var i = s.length - 1; i >= 0; i--){\n",
    "    rev += s[i];\n",
    "};\n",
    "console.log(rev);"
   ]
  },
  {
   "cell_type": "code",
   "execution_count": 11,
   "metadata": {},
   "outputs": [
    {
     "name": "stdout",
     "output_type": "stream",
     "text": [
      "olleh\n"
     ]
    }
   ],
   "source": [
    "%%node\n",
    "var s = 'hello';\n",
    "var rev = '';\n",
    "s.split('').reverse().forEach(item => rev += item);\n",
    "console.log(rev);"
   ]
  },
  {
   "cell_type": "code",
   "execution_count": 12,
   "metadata": {},
   "outputs": [
    {
     "name": "stdout",
     "output_type": "stream",
     "text": [
      "olleh\n"
     ]
    }
   ],
   "source": [
    "%%node\n",
    "var s = 'hello';\n",
    "var rev = '';\n",
    "s.split('').forEach(item => rev = item + rev);\n",
    "console.log(rev);"
   ]
  },
  {
   "cell_type": "code",
   "execution_count": 13,
   "metadata": {},
   "outputs": [
    {
     "name": "stdout",
     "output_type": "stream",
     "text": [
      "olleh\n"
     ]
    }
   ],
   "source": [
    "%%node\n",
    "var s = 'hello';\n",
    "var rev = s.split('').reverse().join('');\n",
    "console.log(rev);"
   ]
  },
  {
   "cell_type": "markdown",
   "metadata": {},
   "source": [
    "### Reverse an Integer"
   ]
  },
  {
   "cell_type": "code",
   "execution_count": 14,
   "metadata": {},
   "outputs": [
    {
     "data": {
      "text/plain": [
       "4321"
      ]
     },
     "execution_count": 14,
     "metadata": {},
     "output_type": "execute_result"
    }
   ],
   "source": [
    "n = 1234\n",
    "int(str(n)[::-1])"
   ]
  },
  {
   "cell_type": "code",
   "execution_count": 15,
   "metadata": {},
   "outputs": [
    {
     "name": "stdout",
     "output_type": "stream",
     "text": [
      "4321\n",
      "\n"
     ]
    }
   ],
   "source": [
    "%%node\n",
    "var n = 1234;\n",
    "var rev = parseInt(n.toString().split('').reverse().join(''));\n",
    "console.log(rev);"
   ]
  },
  {
   "cell_type": "markdown",
   "metadata": {},
   "source": [
    "### Generate a random integer from 0 to 3"
   ]
  },
  {
   "cell_type": "code",
   "execution_count": 16,
   "metadata": {},
   "outputs": [
    {
     "data": {
      "text/plain": [
       "3"
      ]
     },
     "execution_count": 16,
     "metadata": {},
     "output_type": "execute_result"
    }
   ],
   "source": [
    "import random\n",
    "# random.randrange(0, 4)\n",
    "random.randint(0, 3)"
   ]
  },
  {
   "cell_type": "code",
   "execution_count": 17,
   "metadata": {},
   "outputs": [
    {
     "name": "stdout",
     "output_type": "stream",
     "text": [
      "1\n",
      "\n"
     ]
    }
   ],
   "source": [
    "%%node\n",
    "var n = Math.floor(Math.random() * 4);\n",
    "console.log(n);"
   ]
  },
  {
   "cell_type": "markdown",
   "metadata": {},
   "source": [
    "### BONUS: Convert path to uppercase array"
   ]
  },
  {
   "cell_type": "code",
   "execution_count": 18,
   "metadata": {},
   "outputs": [
    {
     "data": {
      "text/plain": [
       "['User Data', 'Profile']"
      ]
     },
     "execution_count": 18,
     "metadata": {},
     "output_type": "execute_result"
    }
   ],
   "source": [
    "path = '/user_data/profile/'\n",
    "# ['User Data', 'Profile']\n",
    "\n",
    "result = []\n",
    "for item in path.split('/'):\n",
    "    if item:\n",
    "        result.append(item.replace('-', ' ').replace('_', ' ').title())\n",
    "\n",
    "result"
   ]
  },
  {
   "cell_type": "code",
   "execution_count": 19,
   "metadata": {},
   "outputs": [
    {
     "name": "stdout",
     "output_type": "stream",
     "text": [
      "... ..... ..... ..... ....... ....... ....... ..... ..... ..... ..... ...\n",
      "[ 'User Data', 'Profile' ]\n"
     ]
    }
   ],
   "source": [
    "%%node\n",
    "var path = '/user_data/profile/'\n",
    "\n",
    "result = []\n",
    "path.split('/').forEach(item => {\n",
    "    if (item) {\n",
    "        var text = item.replace('-', ' ').replace('_', ' ');\n",
    "        var uppercase_words = [];\n",
    "        text.split(' ').forEach(word => {\n",
    "            var uppercase_word = word[0].toUpperCase() + word.slice(1);\n",
    "            uppercase_words.push(uppercase_word);\n",
    "        });\n",
    "        var uppercase_text = uppercase_words.join(' ');\n",
    "        result.push(uppercase_text);\n",
    "        \n",
    "    };\n",
    "});\n",
    "\n",
    "console.log(result);"
   ]
  },
  {
   "cell_type": "code",
   "execution_count": 20,
   "metadata": {},
   "outputs": [
    {
     "name": "stdout",
     "output_type": "stream",
     "text": [
      "... ..... ..... ..... ..... ...\n",
      "[ 'User Data', 'Profile' ]\n"
     ]
    }
   ],
   "source": [
    "%%node\n",
    "var path = '/user_data/profile/'\n",
    "\n",
    "result = []\n",
    "path.split('/').forEach(item => {\n",
    "    if (item) {\n",
    "        var text = item.replace('-', ' ').replace('_', ' ');\n",
    "        var uppercase_text = text.replace(/\\b\\w/g, word => word.toUpperCase());\n",
    "        result.push(uppercase_text);\n",
    "    };\n",
    "});\n",
    "\n",
    "console.log(result);"
   ]
  },
  {
   "cell_type": "code",
   "execution_count": null,
   "metadata": {},
   "outputs": [],
   "source": []
  }
 ],
 "metadata": {
  "kernelspec": {
   "display_name": "Python [default]",
   "language": "python",
   "name": "python3"
  },
  "language_info": {
   "codemirror_mode": {
    "name": "ipython",
    "version": 3
   },
   "file_extension": ".py",
   "mimetype": "text/x-python",
   "name": "python",
   "nbconvert_exporter": "python",
   "pygments_lexer": "ipython3",
   "version": "3.6.6"
  }
 },
 "nbformat": 4,
 "nbformat_minor": 2
}
