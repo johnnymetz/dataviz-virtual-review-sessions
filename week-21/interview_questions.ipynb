{
 "cells": [
  {
   "cell_type": "markdown",
   "metadata": {},
   "source": [
    "### PLUS ONE\n",
    "Plus one to the integer represented as a list"
   ]
  },
  {
   "cell_type": "code",
   "execution_count": 1,
   "metadata": {},
   "outputs": [],
   "source": [
    "# [1, 2, 3] -> [1, 2, 4]\n",
    "# [9, 9, 9] -> [1, 0, 0, 0]"
   ]
  },
  {
   "cell_type": "code",
   "execution_count": 2,
   "metadata": {},
   "outputs": [],
   "source": [
    "def plus_one1(s):\n",
    "    \"\"\"Verbose\"\"\"\n",
    "    num_str = ''.join([str(item) for item in s])          # list -> str\n",
    "    plus_one_int = int(num_str) + 1                       # str -> (int + 1)\n",
    "    plus_one_str = str(plus_one_int)                      # (int + 1) -> str\n",
    "    plus_one_list = [int(item) for item in plus_one_str]  # str -> list\n",
    "    return [int(item) for item in str(int(num_str) + 1)]"
   ]
  },
  {
   "cell_type": "code",
   "execution_count": 3,
   "metadata": {},
   "outputs": [],
   "source": [
    "def plus_one2(nums):\n",
    "    \"\"\"One-liner\"\"\"\n",
    "    return [int(item) for item in str(int(''.join([str(item) for item in nums])) + 1)]"
   ]
  },
  {
   "cell_type": "code",
   "execution_count": 4,
   "metadata": {},
   "outputs": [
    {
     "name": "stdout",
     "output_type": "stream",
     "text": [
      "[1, 2, 4]\n",
      "[1, 0, 0, 0]\n"
     ]
    }
   ],
   "source": [
    "print(plus_one2([1, 2, 3]))  # [1, 2, 4]\n",
    "print(plus_one2([9, 9, 9]))  # [1, 0, 0, 0]"
   ]
  },
  {
   "cell_type": "code",
   "execution_count": 5,
   "metadata": {},
   "outputs": [],
   "source": [
    "def plus_one3(nums):\n",
    "    \"\"\"Raise error on bad input\"\"\"\n",
    "    if not isinstance(nums, (list, tuple)) or not nums:\n",
    "        raise Exception('Input \"nums\" must be a non-empty list or tuple')\n",
    "    return [int(item) for item in str(int(''.join([str(item) for item in nums])) + 1)]"
   ]
  },
  {
   "cell_type": "code",
   "execution_count": 6,
   "metadata": {},
   "outputs": [
    {
     "ename": "Exception",
     "evalue": "Input \"nums\" must be a non-empty list or tuple",
     "output_type": "error",
     "traceback": [
      "\u001b[0;31m---------------------------------------------------------------------------\u001b[0m",
      "\u001b[0;31mException\u001b[0m                                 Traceback (most recent call last)",
      "\u001b[0;32m<ipython-input-6-dc7d904ef84c>\u001b[0m in \u001b[0;36m<module>\u001b[0;34m\u001b[0m\n\u001b[0;32m----> 1\u001b[0;31m \u001b[0mprint\u001b[0m\u001b[0;34m(\u001b[0m\u001b[0mplus_one3\u001b[0m\u001b[0;34m(\u001b[0m\u001b[0;34m[\u001b[0m\u001b[0;34m]\u001b[0m\u001b[0;34m)\u001b[0m\u001b[0;34m)\u001b[0m  \u001b[0;31m# raise custom exception\u001b[0m\u001b[0;34m\u001b[0m\u001b[0;34m\u001b[0m\u001b[0m\n\u001b[0m",
      "\u001b[0;32m<ipython-input-5-578a950ca31f>\u001b[0m in \u001b[0;36mplus_one3\u001b[0;34m(nums)\u001b[0m\n\u001b[1;32m      2\u001b[0m     \u001b[0;34m\"\"\"Raise error on bad input\"\"\"\u001b[0m\u001b[0;34m\u001b[0m\u001b[0;34m\u001b[0m\u001b[0m\n\u001b[1;32m      3\u001b[0m     \u001b[0;32mif\u001b[0m \u001b[0;32mnot\u001b[0m \u001b[0misinstance\u001b[0m\u001b[0;34m(\u001b[0m\u001b[0mnums\u001b[0m\u001b[0;34m,\u001b[0m \u001b[0;34m(\u001b[0m\u001b[0mlist\u001b[0m\u001b[0;34m,\u001b[0m \u001b[0mtuple\u001b[0m\u001b[0;34m)\u001b[0m\u001b[0;34m)\u001b[0m \u001b[0;32mor\u001b[0m \u001b[0;32mnot\u001b[0m \u001b[0mnums\u001b[0m\u001b[0;34m:\u001b[0m\u001b[0;34m\u001b[0m\u001b[0;34m\u001b[0m\u001b[0m\n\u001b[0;32m----> 4\u001b[0;31m         \u001b[0;32mraise\u001b[0m \u001b[0mException\u001b[0m\u001b[0;34m(\u001b[0m\u001b[0;34m'Input \"nums\" must be a non-empty list or tuple'\u001b[0m\u001b[0;34m)\u001b[0m\u001b[0;34m\u001b[0m\u001b[0;34m\u001b[0m\u001b[0m\n\u001b[0m\u001b[1;32m      5\u001b[0m     \u001b[0;32mreturn\u001b[0m \u001b[0;34m[\u001b[0m\u001b[0mint\u001b[0m\u001b[0;34m(\u001b[0m\u001b[0mitem\u001b[0m\u001b[0;34m)\u001b[0m \u001b[0;32mfor\u001b[0m \u001b[0mitem\u001b[0m \u001b[0;32min\u001b[0m \u001b[0mstr\u001b[0m\u001b[0;34m(\u001b[0m\u001b[0mint\u001b[0m\u001b[0;34m(\u001b[0m\u001b[0;34m''\u001b[0m\u001b[0;34m.\u001b[0m\u001b[0mjoin\u001b[0m\u001b[0;34m(\u001b[0m\u001b[0;34m[\u001b[0m\u001b[0mstr\u001b[0m\u001b[0;34m(\u001b[0m\u001b[0mitem\u001b[0m\u001b[0;34m)\u001b[0m \u001b[0;32mfor\u001b[0m \u001b[0mitem\u001b[0m \u001b[0;32min\u001b[0m \u001b[0mnums\u001b[0m\u001b[0;34m]\u001b[0m\u001b[0;34m)\u001b[0m\u001b[0;34m)\u001b[0m \u001b[0;34m+\u001b[0m \u001b[0;36m1\u001b[0m\u001b[0;34m)\u001b[0m\u001b[0;34m]\u001b[0m\u001b[0;34m\u001b[0m\u001b[0;34m\u001b[0m\u001b[0m\n",
      "\u001b[0;31mException\u001b[0m: Input \"nums\" must be a non-empty list or tuple"
     ]
    }
   ],
   "source": [
    "print(plus_one3([]))  # raise custom exception"
   ]
  },
  {
   "cell_type": "markdown",
   "metadata": {},
   "source": [
    "### ROTATE ARRAY\n",
    "Given an array, rotate the array to the right by k steps"
   ]
  },
  {
   "cell_type": "code",
   "execution_count": 7,
   "metadata": {},
   "outputs": [],
   "source": [
    "def rotate_array1(nums, k):\n",
    "    for _ in range(k):\n",
    "        end_value = nums.pop(-1)\n",
    "        nums.insert(0, end_value)\n",
    "    return nums"
   ]
  },
  {
   "cell_type": "code",
   "execution_count": 8,
   "metadata": {},
   "outputs": [],
   "source": [
    "# removing items from list\n",
    "# lst = ['a', 'b', 'c']\n",
    "# lst.remove('b')     # remove first matching value\n",
    "# del lst[1]          # remove item by index\n",
    "# value = lst.pop(1)  # remove item by index AND return it"
   ]
  },
  {
   "cell_type": "code",
   "execution_count": 9,
   "metadata": {},
   "outputs": [],
   "source": [
    "def rotate_array2(nums, k):\n",
    "    length = len(nums)\n",
    "    end_segment = nums[(length - k):]\n",
    "    start_segment = nums[:(length - k)]\n",
    "    return end_segment + start_segment"
   ]
  },
  {
   "cell_type": "code",
   "execution_count": 10,
   "metadata": {},
   "outputs": [],
   "source": [
    "def rotate_array3(nums, k):\n",
    "    \"\"\"Inplace\"\"\"\n",
    "    for _ in range(k):\n",
    "        end_value = nums.pop(-1)\n",
    "        nums.insert(0, end_value)"
   ]
  },
  {
   "cell_type": "code",
   "execution_count": 11,
   "metadata": {},
   "outputs": [],
   "source": [
    "def rotate_array4(nums, k):\n",
    "    \"\"\"Inplace\"\"\"\n",
    "    length = len(nums)\n",
    "    end_segment = nums[(length - k):]\n",
    "    start_segment = nums[:(length - k)]\n",
    "    nums[:] = end_segment + start_segment  # edits items in original list"
   ]
  },
  {
   "cell_type": "code",
   "execution_count": 12,
   "metadata": {},
   "outputs": [],
   "source": [
    "def rotate_array5(nums, k):\n",
    "    \"\"\"Inplace and raise error on bad k\"\"\"\n",
    "    if k < 0 or k > len(nums):\n",
    "        raise Exception('Invalid rotate value \"k\"')\n",
    "    for _ in range(k):\n",
    "        end_value = nums.pop(6)\n",
    "        nums.insert(0, end_value)"
   ]
  },
  {
   "cell_type": "code",
   "execution_count": 13,
   "metadata": {},
   "outputs": [],
   "source": [
    "# print(rotate_array1([1, 2, 3, 4, 5], 2))  # [4, 5, 1, 2, 3]\n",
    "# print(rotate_array1([1, 2, 3, 4, 5], 3))  # [3, 4, 5, 1, 2]"
   ]
  },
  {
   "cell_type": "code",
   "execution_count": 14,
   "metadata": {},
   "outputs": [
    {
     "data": {
      "text/plain": [
       "[4, 5, 1, 2, 3]"
      ]
     },
     "execution_count": 14,
     "metadata": {},
     "output_type": "execute_result"
    }
   ],
   "source": [
    "# inplace\n",
    "nums = [1, 2, 3, 4, 5]\n",
    "rotate_array4(nums, 2)\n",
    "# rotate_array5(nums, -1)\n",
    "nums"
   ]
  },
  {
   "cell_type": "markdown",
   "metadata": {},
   "source": [
    "### Single Number\n",
    "Given a non-empty array of integers, find the element that appears only once."
   ]
  },
  {
   "cell_type": "code",
   "execution_count": 15,
   "metadata": {},
   "outputs": [],
   "source": [
    "def single_number1(nums):\n",
    "    dic = {}\n",
    "    for num in nums:\n",
    "        dic[num] = dic.get(num, 0) + 1\n",
    "    for key, val in dic.items():\n",
    "        if val == 1:\n",
    "            return key"
   ]
  },
  {
   "cell_type": "code",
   "execution_count": 16,
   "metadata": {},
   "outputs": [],
   "source": [
    "def single_number2(nums):\n",
    "    \"\"\"Return first single\"\"\"\n",
    "    for num in nums:\n",
    "        if nums.count(num) == 1:\n",
    "            return num\n",
    "    return num"
   ]
  },
  {
   "cell_type": "code",
   "execution_count": 17,
   "metadata": {},
   "outputs": [
    {
     "data": {
      "text/plain": [
       "3"
      ]
     },
     "execution_count": 17,
     "metadata": {},
     "output_type": "execute_result"
    }
   ],
   "source": [
    "single_number2([1, 1, 1, 2, 2, 3])  # 3"
   ]
  },
  {
   "cell_type": "code",
   "execution_count": 18,
   "metadata": {},
   "outputs": [],
   "source": [
    "def single_number3(nums):\n",
    "    \"\"\"Return last single\"\"\"\n",
    "    last_single = None\n",
    "    for num in nums:\n",
    "        if nums.count(num) == 1:\n",
    "            last_single = num\n",
    "    return last_single"
   ]
  },
  {
   "cell_type": "code",
   "execution_count": 19,
   "metadata": {},
   "outputs": [
    {
     "data": {
      "text/plain": [
       "4"
      ]
     },
     "execution_count": 19,
     "metadata": {},
     "output_type": "execute_result"
    }
   ],
   "source": [
    "single_number3([1, 1, 1, 2, 2, 3, 4])  # 4"
   ]
  },
  {
   "cell_type": "markdown",
   "metadata": {},
   "source": [
    "### Sum of squares to equal number\n",
    "Given a number, find the numbers in which that number squared plus another number squared equal the target number."
   ]
  },
  {
   "cell_type": "code",
   "execution_count": 20,
   "metadata": {},
   "outputs": [],
   "source": [
    "# 5: [1, 2]\n",
    "# 25: [3, 4]\n",
    "# 65: [1, 8, 4, 7]\n",
    "# 85: [2, 9, 6, 7]"
   ]
  },
  {
   "cell_type": "code",
   "execution_count": 21,
   "metadata": {},
   "outputs": [],
   "source": [
    "def sum_of_squares(n):\n",
    "    \"\"\"Brute force\"\"\"\n",
    "    result = []\n",
    "    for i in range(1, math.ceil(math.sqrt(n))):\n",
    "        for j in range(1, math.ceil(math.sqrt(n))):\n",
    "            if i == j:\n",
    "                continue\n",
    "            if i**2 + j**2 == n:\n",
    "                if i not in result:\n",
    "                    result.append(i)\n",
    "                if j not in result:\n",
    "                    result.append(j)\n",
    "    return result"
   ]
  },
  {
   "cell_type": "code",
   "execution_count": 22,
   "metadata": {},
   "outputs": [],
   "source": [
    "import math\n",
    "\n",
    "def sum_of_squares2(n):\n",
    "    \"\"\"Compliments list while iterating\"\"\"\n",
    "    result = []\n",
    "    compliments = []\n",
    "    for i in range(1, math.ceil(math.sqrt(n))):\n",
    "        compliment = math.sqrt(n - i**2)\n",
    "        if i in compliments:\n",
    "            if compliment not in result:\n",
    "                result.append(int(compliment))\n",
    "            if i not in result:\n",
    "                result.append(i)\n",
    "        if compliment.is_integer():\n",
    "            compliments.append(int(compliment))\n",
    "    return result"
   ]
  },
  {
   "cell_type": "code",
   "execution_count": 23,
   "metadata": {},
   "outputs": [
    {
     "data": {
      "text/plain": [
       "[3, 4]"
      ]
     },
     "execution_count": 23,
     "metadata": {},
     "output_type": "execute_result"
    }
   ],
   "source": [
    "sum_of_squares2(25)"
   ]
  },
  {
   "cell_type": "code",
   "execution_count": null,
   "metadata": {},
   "outputs": [],
   "source": []
  }
 ],
 "metadata": {
  "kernelspec": {
   "display_name": "Python 3",
   "language": "python",
   "name": "python3"
  },
  "language_info": {
   "codemirror_mode": {
    "name": "ipython",
    "version": 3
   },
   "file_extension": ".py",
   "mimetype": "text/x-python",
   "name": "python",
   "nbconvert_exporter": "python",
   "pygments_lexer": "ipython3",
   "version": "3.6.7"
  }
 },
 "nbformat": 4,
 "nbformat_minor": 2
}
