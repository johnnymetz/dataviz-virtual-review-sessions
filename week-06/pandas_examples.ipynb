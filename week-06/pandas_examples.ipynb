{
 "cells": [
  {
   "cell_type": "code",
   "execution_count": 1,
   "metadata": {},
   "outputs": [],
   "source": [
    "import pandas as pd"
   ]
  },
  {
   "cell_type": "markdown",
   "metadata": {},
   "source": [
    "### Number formatting"
   ]
  },
  {
   "cell_type": "code",
   "execution_count": 2,
   "metadata": {},
   "outputs": [],
   "source": [
    "df = pd.DataFrame({\n",
    "    'name': ['Steve', 'Mike', 'Lauren', 'Michelle', 'Stephanie'],\n",
    "    'age': [23, 42, 28, 31, 39],\n",
    "    'payment': [1330.00, 1482.33, 873.43, 915.37, 1201.33],\n",
    "    'net_change': [1.122, -2.317, -2.353, 2.749, -1.925],\n",
    "    'percent_completed': [.63, .52, .72, .91, .33],\n",
    "    'large_nums': [104214, 321094, 31272, 27904, 1471294]\n",
    "})"
   ]
  },
  {
   "cell_type": "code",
   "execution_count": 3,
   "metadata": {},
   "outputs": [],
   "source": [
    "# pd.options.display.float_format = '${:,.2f}'.format  # bad\n",
    "# df['payment'] = df['payment'].map('${:,.2f}'.format)  # bad \n",
    "formatter = {\n",
    "    'payment': '${:,.2f}',\n",
    "    'percent_completed': '{:,.1%}',\n",
    "    'net_change': '{:+.2f}',\n",
    "    'large_nums': '{:.1e}'\n",
    "}  # best"
   ]
  },
  {
   "cell_type": "code",
   "execution_count": 4,
   "metadata": {},
   "outputs": [
    {
     "data": {
      "text/html": [
       "<style  type=\"text/css\" >\n",
       "</style>  \n",
       "<table id=\"T_f413d9aa_a88b_11e8_818b_acbc32a9fc2f\" > \n",
       "<thead>    <tr> \n",
       "        <th class=\"blank level0\" ></th> \n",
       "        <th class=\"col_heading level0 col0\" >name</th> \n",
       "        <th class=\"col_heading level0 col1\" >age</th> \n",
       "        <th class=\"col_heading level0 col2\" >payment</th> \n",
       "        <th class=\"col_heading level0 col3\" >net_change</th> \n",
       "        <th class=\"col_heading level0 col4\" >percent_completed</th> \n",
       "        <th class=\"col_heading level0 col5\" >large_nums</th> \n",
       "    </tr></thead> \n",
       "<tbody>    <tr> \n",
       "        <th id=\"T_f413d9aa_a88b_11e8_818b_acbc32a9fc2flevel0_row0\" class=\"row_heading level0 row0\" >0</th> \n",
       "        <td id=\"T_f413d9aa_a88b_11e8_818b_acbc32a9fc2frow0_col0\" class=\"data row0 col0\" >Steve</td> \n",
       "        <td id=\"T_f413d9aa_a88b_11e8_818b_acbc32a9fc2frow0_col1\" class=\"data row0 col1\" >23</td> \n",
       "        <td id=\"T_f413d9aa_a88b_11e8_818b_acbc32a9fc2frow0_col2\" class=\"data row0 col2\" >$1,330.00</td> \n",
       "        <td id=\"T_f413d9aa_a88b_11e8_818b_acbc32a9fc2frow0_col3\" class=\"data row0 col3\" >+1.12</td> \n",
       "        <td id=\"T_f413d9aa_a88b_11e8_818b_acbc32a9fc2frow0_col4\" class=\"data row0 col4\" >63.0%</td> \n",
       "        <td id=\"T_f413d9aa_a88b_11e8_818b_acbc32a9fc2frow0_col5\" class=\"data row0 col5\" >1.0e+05</td> \n",
       "    </tr>    <tr> \n",
       "        <th id=\"T_f413d9aa_a88b_11e8_818b_acbc32a9fc2flevel0_row1\" class=\"row_heading level0 row1\" >1</th> \n",
       "        <td id=\"T_f413d9aa_a88b_11e8_818b_acbc32a9fc2frow1_col0\" class=\"data row1 col0\" >Mike</td> \n",
       "        <td id=\"T_f413d9aa_a88b_11e8_818b_acbc32a9fc2frow1_col1\" class=\"data row1 col1\" >42</td> \n",
       "        <td id=\"T_f413d9aa_a88b_11e8_818b_acbc32a9fc2frow1_col2\" class=\"data row1 col2\" >$1,482.33</td> \n",
       "        <td id=\"T_f413d9aa_a88b_11e8_818b_acbc32a9fc2frow1_col3\" class=\"data row1 col3\" >-2.32</td> \n",
       "        <td id=\"T_f413d9aa_a88b_11e8_818b_acbc32a9fc2frow1_col4\" class=\"data row1 col4\" >52.0%</td> \n",
       "        <td id=\"T_f413d9aa_a88b_11e8_818b_acbc32a9fc2frow1_col5\" class=\"data row1 col5\" >3.2e+05</td> \n",
       "    </tr>    <tr> \n",
       "        <th id=\"T_f413d9aa_a88b_11e8_818b_acbc32a9fc2flevel0_row2\" class=\"row_heading level0 row2\" >2</th> \n",
       "        <td id=\"T_f413d9aa_a88b_11e8_818b_acbc32a9fc2frow2_col0\" class=\"data row2 col0\" >Lauren</td> \n",
       "        <td id=\"T_f413d9aa_a88b_11e8_818b_acbc32a9fc2frow2_col1\" class=\"data row2 col1\" >28</td> \n",
       "        <td id=\"T_f413d9aa_a88b_11e8_818b_acbc32a9fc2frow2_col2\" class=\"data row2 col2\" >$873.43</td> \n",
       "        <td id=\"T_f413d9aa_a88b_11e8_818b_acbc32a9fc2frow2_col3\" class=\"data row2 col3\" >-2.35</td> \n",
       "        <td id=\"T_f413d9aa_a88b_11e8_818b_acbc32a9fc2frow2_col4\" class=\"data row2 col4\" >72.0%</td> \n",
       "        <td id=\"T_f413d9aa_a88b_11e8_818b_acbc32a9fc2frow2_col5\" class=\"data row2 col5\" >3.1e+04</td> \n",
       "    </tr>    <tr> \n",
       "        <th id=\"T_f413d9aa_a88b_11e8_818b_acbc32a9fc2flevel0_row3\" class=\"row_heading level0 row3\" >3</th> \n",
       "        <td id=\"T_f413d9aa_a88b_11e8_818b_acbc32a9fc2frow3_col0\" class=\"data row3 col0\" >Michelle</td> \n",
       "        <td id=\"T_f413d9aa_a88b_11e8_818b_acbc32a9fc2frow3_col1\" class=\"data row3 col1\" >31</td> \n",
       "        <td id=\"T_f413d9aa_a88b_11e8_818b_acbc32a9fc2frow3_col2\" class=\"data row3 col2\" >$915.37</td> \n",
       "        <td id=\"T_f413d9aa_a88b_11e8_818b_acbc32a9fc2frow3_col3\" class=\"data row3 col3\" >+2.75</td> \n",
       "        <td id=\"T_f413d9aa_a88b_11e8_818b_acbc32a9fc2frow3_col4\" class=\"data row3 col4\" >91.0%</td> \n",
       "        <td id=\"T_f413d9aa_a88b_11e8_818b_acbc32a9fc2frow3_col5\" class=\"data row3 col5\" >2.8e+04</td> \n",
       "    </tr>    <tr> \n",
       "        <th id=\"T_f413d9aa_a88b_11e8_818b_acbc32a9fc2flevel0_row4\" class=\"row_heading level0 row4\" >4</th> \n",
       "        <td id=\"T_f413d9aa_a88b_11e8_818b_acbc32a9fc2frow4_col0\" class=\"data row4 col0\" >Stephanie</td> \n",
       "        <td id=\"T_f413d9aa_a88b_11e8_818b_acbc32a9fc2frow4_col1\" class=\"data row4 col1\" >39</td> \n",
       "        <td id=\"T_f413d9aa_a88b_11e8_818b_acbc32a9fc2frow4_col2\" class=\"data row4 col2\" >$1,201.33</td> \n",
       "        <td id=\"T_f413d9aa_a88b_11e8_818b_acbc32a9fc2frow4_col3\" class=\"data row4 col3\" >-1.93</td> \n",
       "        <td id=\"T_f413d9aa_a88b_11e8_818b_acbc32a9fc2frow4_col4\" class=\"data row4 col4\" >33.0%</td> \n",
       "        <td id=\"T_f413d9aa_a88b_11e8_818b_acbc32a9fc2frow4_col5\" class=\"data row4 col5\" >1.5e+06</td> \n",
       "    </tr></tbody> \n",
       "</table> "
      ],
      "text/plain": [
       "<pandas.io.formats.style.Styler at 0x11f222860>"
      ]
     },
     "execution_count": 4,
     "metadata": {},
     "output_type": "execute_result"
    }
   ],
   "source": [
    "df.style.format(formatter)"
   ]
  },
  {
   "cell_type": "markdown",
   "metadata": {},
   "source": [
    "### Mappings"
   ]
  },
  {
   "cell_type": "code",
   "execution_count": 5,
   "metadata": {},
   "outputs": [],
   "source": [
    "df = pd.DataFrame({\n",
    "    'name': ['Steve', 'Mike', 'Lauren', 'Michelle', 'Stephanie'],\n",
    "    'shirt_size': ['large', 'medium', 'medium', 'small', 'medium']\n",
    "})"
   ]
  },
  {
   "cell_type": "code",
   "execution_count": 6,
   "metadata": {},
   "outputs": [],
   "source": [
    "size_to_scale = {'small': 1, 'medium': 2, 'large': 3}"
   ]
  },
  {
   "cell_type": "code",
   "execution_count": 7,
   "metadata": {},
   "outputs": [
    {
     "data": {
      "text/html": [
       "<div>\n",
       "<style scoped>\n",
       "    .dataframe tbody tr th:only-of-type {\n",
       "        vertical-align: middle;\n",
       "    }\n",
       "\n",
       "    .dataframe tbody tr th {\n",
       "        vertical-align: top;\n",
       "    }\n",
       "\n",
       "    .dataframe thead th {\n",
       "        text-align: right;\n",
       "    }\n",
       "</style>\n",
       "<table border=\"1\" class=\"dataframe\">\n",
       "  <thead>\n",
       "    <tr style=\"text-align: right;\">\n",
       "      <th></th>\n",
       "      <th>name</th>\n",
       "      <th>shirt_size</th>\n",
       "      <th>scale</th>\n",
       "    </tr>\n",
       "  </thead>\n",
       "  <tbody>\n",
       "    <tr>\n",
       "      <th>0</th>\n",
       "      <td>Steve</td>\n",
       "      <td>large</td>\n",
       "      <td>3</td>\n",
       "    </tr>\n",
       "    <tr>\n",
       "      <th>1</th>\n",
       "      <td>Mike</td>\n",
       "      <td>medium</td>\n",
       "      <td>2</td>\n",
       "    </tr>\n",
       "    <tr>\n",
       "      <th>2</th>\n",
       "      <td>Lauren</td>\n",
       "      <td>medium</td>\n",
       "      <td>2</td>\n",
       "    </tr>\n",
       "    <tr>\n",
       "      <th>3</th>\n",
       "      <td>Michelle</td>\n",
       "      <td>small</td>\n",
       "      <td>1</td>\n",
       "    </tr>\n",
       "    <tr>\n",
       "      <th>4</th>\n",
       "      <td>Stephanie</td>\n",
       "      <td>medium</td>\n",
       "      <td>2</td>\n",
       "    </tr>\n",
       "  </tbody>\n",
       "</table>\n",
       "</div>"
      ],
      "text/plain": [
       "        name shirt_size  scale\n",
       "0      Steve      large      3\n",
       "1       Mike     medium      2\n",
       "2     Lauren     medium      2\n",
       "3   Michelle      small      1\n",
       "4  Stephanie     medium      2"
      ]
     },
     "execution_count": 7,
     "metadata": {},
     "output_type": "execute_result"
    }
   ],
   "source": [
    "df['scale'] = df['shirt_size'].map(size_to_scale)\n",
    "df"
   ]
  },
  {
   "cell_type": "code",
   "execution_count": 8,
   "metadata": {},
   "outputs": [
    {
     "data": {
      "text/plain": [
       "small     1\n",
       "medium    2\n",
       "large     3\n",
       "dtype: int64"
      ]
     },
     "execution_count": 8,
     "metadata": {},
     "output_type": "execute_result"
    }
   ],
   "source": [
    "series_scale = pd.Series(size_to_scale)\n",
    "series_scale"
   ]
  },
  {
   "cell_type": "code",
   "execution_count": 9,
   "metadata": {},
   "outputs": [
    {
     "data": {
      "text/html": [
       "<div>\n",
       "<style scoped>\n",
       "    .dataframe tbody tr th:only-of-type {\n",
       "        vertical-align: middle;\n",
       "    }\n",
       "\n",
       "    .dataframe tbody tr th {\n",
       "        vertical-align: top;\n",
       "    }\n",
       "\n",
       "    .dataframe thead th {\n",
       "        text-align: right;\n",
       "    }\n",
       "</style>\n",
       "<table border=\"1\" class=\"dataframe\">\n",
       "  <thead>\n",
       "    <tr style=\"text-align: right;\">\n",
       "      <th></th>\n",
       "      <th>name</th>\n",
       "      <th>shirt_size</th>\n",
       "      <th>scale</th>\n",
       "      <th>scale2</th>\n",
       "    </tr>\n",
       "  </thead>\n",
       "  <tbody>\n",
       "    <tr>\n",
       "      <th>0</th>\n",
       "      <td>Steve</td>\n",
       "      <td>large</td>\n",
       "      <td>3</td>\n",
       "      <td>3</td>\n",
       "    </tr>\n",
       "    <tr>\n",
       "      <th>1</th>\n",
       "      <td>Mike</td>\n",
       "      <td>medium</td>\n",
       "      <td>2</td>\n",
       "      <td>2</td>\n",
       "    </tr>\n",
       "    <tr>\n",
       "      <th>2</th>\n",
       "      <td>Lauren</td>\n",
       "      <td>medium</td>\n",
       "      <td>2</td>\n",
       "      <td>2</td>\n",
       "    </tr>\n",
       "    <tr>\n",
       "      <th>3</th>\n",
       "      <td>Michelle</td>\n",
       "      <td>small</td>\n",
       "      <td>1</td>\n",
       "      <td>1</td>\n",
       "    </tr>\n",
       "    <tr>\n",
       "      <th>4</th>\n",
       "      <td>Stephanie</td>\n",
       "      <td>medium</td>\n",
       "      <td>2</td>\n",
       "      <td>2</td>\n",
       "    </tr>\n",
       "  </tbody>\n",
       "</table>\n",
       "</div>"
      ],
      "text/plain": [
       "        name shirt_size  scale  scale2\n",
       "0      Steve      large      3       3\n",
       "1       Mike     medium      2       2\n",
       "2     Lauren     medium      2       2\n",
       "3   Michelle      small      1       1\n",
       "4  Stephanie     medium      2       2"
      ]
     },
     "execution_count": 9,
     "metadata": {},
     "output_type": "execute_result"
    }
   ],
   "source": [
    "df['scale2'] = df['shirt_size'].map(series_scale)\n",
    "df"
   ]
  },
  {
   "cell_type": "code",
   "execution_count": 10,
   "metadata": {},
   "outputs": [
    {
     "data": {
      "text/html": [
       "<div>\n",
       "<style scoped>\n",
       "    .dataframe tbody tr th:only-of-type {\n",
       "        vertical-align: middle;\n",
       "    }\n",
       "\n",
       "    .dataframe tbody tr th {\n",
       "        vertical-align: top;\n",
       "    }\n",
       "\n",
       "    .dataframe thead th {\n",
       "        text-align: right;\n",
       "    }\n",
       "</style>\n",
       "<table border=\"1\" class=\"dataframe\">\n",
       "  <thead>\n",
       "    <tr style=\"text-align: right;\">\n",
       "      <th></th>\n",
       "      <th>name</th>\n",
       "      <th>shirt_size</th>\n",
       "      <th>scale</th>\n",
       "      <th>scale2</th>\n",
       "      <th>percent_of_total</th>\n",
       "    </tr>\n",
       "  </thead>\n",
       "  <tbody>\n",
       "    <tr>\n",
       "      <th>0</th>\n",
       "      <td>Steve</td>\n",
       "      <td>large</td>\n",
       "      <td>3</td>\n",
       "      <td>3</td>\n",
       "      <td>0.3</td>\n",
       "    </tr>\n",
       "    <tr>\n",
       "      <th>1</th>\n",
       "      <td>Mike</td>\n",
       "      <td>medium</td>\n",
       "      <td>2</td>\n",
       "      <td>2</td>\n",
       "      <td>0.2</td>\n",
       "    </tr>\n",
       "    <tr>\n",
       "      <th>2</th>\n",
       "      <td>Lauren</td>\n",
       "      <td>medium</td>\n",
       "      <td>2</td>\n",
       "      <td>2</td>\n",
       "      <td>0.2</td>\n",
       "    </tr>\n",
       "    <tr>\n",
       "      <th>3</th>\n",
       "      <td>Michelle</td>\n",
       "      <td>small</td>\n",
       "      <td>1</td>\n",
       "      <td>1</td>\n",
       "      <td>0.1</td>\n",
       "    </tr>\n",
       "    <tr>\n",
       "      <th>4</th>\n",
       "      <td>Stephanie</td>\n",
       "      <td>medium</td>\n",
       "      <td>2</td>\n",
       "      <td>2</td>\n",
       "      <td>0.2</td>\n",
       "    </tr>\n",
       "  </tbody>\n",
       "</table>\n",
       "</div>"
      ],
      "text/plain": [
       "        name shirt_size  scale  scale2  percent_of_total\n",
       "0      Steve      large      3       3               0.3\n",
       "1       Mike     medium      2       2               0.2\n",
       "2     Lauren     medium      2       2               0.2\n",
       "3   Michelle      small      1       1               0.1\n",
       "4  Stephanie     medium      2       2               0.2"
      ]
     },
     "execution_count": 10,
     "metadata": {},
     "output_type": "execute_result"
    }
   ],
   "source": [
    "df['percent_of_total'] = df['scale'] / df['scale'].sum()\n",
    "df"
   ]
  },
  {
   "cell_type": "code",
   "execution_count": 11,
   "metadata": {},
   "outputs": [
    {
     "data": {
      "text/html": [
       "<div>\n",
       "<style scoped>\n",
       "    .dataframe tbody tr th:only-of-type {\n",
       "        vertical-align: middle;\n",
       "    }\n",
       "\n",
       "    .dataframe tbody tr th {\n",
       "        vertical-align: top;\n",
       "    }\n",
       "\n",
       "    .dataframe thead th {\n",
       "        text-align: right;\n",
       "    }\n",
       "</style>\n",
       "<table border=\"1\" class=\"dataframe\">\n",
       "  <thead>\n",
       "    <tr style=\"text-align: right;\">\n",
       "      <th></th>\n",
       "      <th>name</th>\n",
       "      <th>shirt_size</th>\n",
       "      <th>scale</th>\n",
       "      <th>scale2</th>\n",
       "      <th>percent_of_total</th>\n",
       "      <th>percent_of_total2</th>\n",
       "    </tr>\n",
       "  </thead>\n",
       "  <tbody>\n",
       "    <tr>\n",
       "      <th>0</th>\n",
       "      <td>Steve</td>\n",
       "      <td>large</td>\n",
       "      <td>3</td>\n",
       "      <td>3</td>\n",
       "      <td>0.3</td>\n",
       "      <td>0.3</td>\n",
       "    </tr>\n",
       "    <tr>\n",
       "      <th>1</th>\n",
       "      <td>Mike</td>\n",
       "      <td>medium</td>\n",
       "      <td>2</td>\n",
       "      <td>2</td>\n",
       "      <td>0.2</td>\n",
       "      <td>0.2</td>\n",
       "    </tr>\n",
       "    <tr>\n",
       "      <th>2</th>\n",
       "      <td>Lauren</td>\n",
       "      <td>medium</td>\n",
       "      <td>2</td>\n",
       "      <td>2</td>\n",
       "      <td>0.2</td>\n",
       "      <td>0.2</td>\n",
       "    </tr>\n",
       "    <tr>\n",
       "      <th>3</th>\n",
       "      <td>Michelle</td>\n",
       "      <td>small</td>\n",
       "      <td>1</td>\n",
       "      <td>1</td>\n",
       "      <td>0.1</td>\n",
       "      <td>0.1</td>\n",
       "    </tr>\n",
       "    <tr>\n",
       "      <th>4</th>\n",
       "      <td>Stephanie</td>\n",
       "      <td>medium</td>\n",
       "      <td>2</td>\n",
       "      <td>2</td>\n",
       "      <td>0.2</td>\n",
       "      <td>0.2</td>\n",
       "    </tr>\n",
       "  </tbody>\n",
       "</table>\n",
       "</div>"
      ],
      "text/plain": [
       "        name shirt_size  scale  scale2  percent_of_total  percent_of_total2\n",
       "0      Steve      large      3       3               0.3                0.3\n",
       "1       Mike     medium      2       2               0.2                0.2\n",
       "2     Lauren     medium      2       2               0.2                0.2\n",
       "3   Michelle      small      1       1               0.1                0.1\n",
       "4  Stephanie     medium      2       2               0.2                0.2"
      ]
     },
     "execution_count": 11,
     "metadata": {},
     "output_type": "execute_result"
    }
   ],
   "source": [
    "df['percent_of_total2'] = df['scale'].apply(lambda i: i / df['scale'].sum())\n",
    "df"
   ]
  },
  {
   "cell_type": "code",
   "execution_count": 12,
   "metadata": {},
   "outputs": [],
   "source": [
    "def write_summary(row):\n",
    "    return '{} is a {}'.format(row[\"name\"], row[\"shirt_size\"])"
   ]
  },
  {
   "cell_type": "code",
   "execution_count": 13,
   "metadata": {},
   "outputs": [
    {
     "data": {
      "text/html": [
       "<div>\n",
       "<style scoped>\n",
       "    .dataframe tbody tr th:only-of-type {\n",
       "        vertical-align: middle;\n",
       "    }\n",
       "\n",
       "    .dataframe tbody tr th {\n",
       "        vertical-align: top;\n",
       "    }\n",
       "\n",
       "    .dataframe thead th {\n",
       "        text-align: right;\n",
       "    }\n",
       "</style>\n",
       "<table border=\"1\" class=\"dataframe\">\n",
       "  <thead>\n",
       "    <tr style=\"text-align: right;\">\n",
       "      <th></th>\n",
       "      <th>name</th>\n",
       "      <th>shirt_size</th>\n",
       "      <th>scale</th>\n",
       "      <th>scale2</th>\n",
       "      <th>percent_of_total</th>\n",
       "      <th>percent_of_total2</th>\n",
       "      <th>sumamry</th>\n",
       "    </tr>\n",
       "  </thead>\n",
       "  <tbody>\n",
       "    <tr>\n",
       "      <th>0</th>\n",
       "      <td>Steve</td>\n",
       "      <td>large</td>\n",
       "      <td>3</td>\n",
       "      <td>3</td>\n",
       "      <td>0.3</td>\n",
       "      <td>0.3</td>\n",
       "      <td>Steve is a large</td>\n",
       "    </tr>\n",
       "    <tr>\n",
       "      <th>1</th>\n",
       "      <td>Mike</td>\n",
       "      <td>medium</td>\n",
       "      <td>2</td>\n",
       "      <td>2</td>\n",
       "      <td>0.2</td>\n",
       "      <td>0.2</td>\n",
       "      <td>Mike is a medium</td>\n",
       "    </tr>\n",
       "    <tr>\n",
       "      <th>2</th>\n",
       "      <td>Lauren</td>\n",
       "      <td>medium</td>\n",
       "      <td>2</td>\n",
       "      <td>2</td>\n",
       "      <td>0.2</td>\n",
       "      <td>0.2</td>\n",
       "      <td>Lauren is a medium</td>\n",
       "    </tr>\n",
       "    <tr>\n",
       "      <th>3</th>\n",
       "      <td>Michelle</td>\n",
       "      <td>small</td>\n",
       "      <td>1</td>\n",
       "      <td>1</td>\n",
       "      <td>0.1</td>\n",
       "      <td>0.1</td>\n",
       "      <td>Michelle is a small</td>\n",
       "    </tr>\n",
       "    <tr>\n",
       "      <th>4</th>\n",
       "      <td>Stephanie</td>\n",
       "      <td>medium</td>\n",
       "      <td>2</td>\n",
       "      <td>2</td>\n",
       "      <td>0.2</td>\n",
       "      <td>0.2</td>\n",
       "      <td>Stephanie is a medium</td>\n",
       "    </tr>\n",
       "  </tbody>\n",
       "</table>\n",
       "</div>"
      ],
      "text/plain": [
       "        name shirt_size  scale  scale2  percent_of_total  percent_of_total2  \\\n",
       "0      Steve      large      3       3               0.3                0.3   \n",
       "1       Mike     medium      2       2               0.2                0.2   \n",
       "2     Lauren     medium      2       2               0.2                0.2   \n",
       "3   Michelle      small      1       1               0.1                0.1   \n",
       "4  Stephanie     medium      2       2               0.2                0.2   \n",
       "\n",
       "                 sumamry  \n",
       "0       Steve is a large  \n",
       "1       Mike is a medium  \n",
       "2     Lauren is a medium  \n",
       "3    Michelle is a small  \n",
       "4  Stephanie is a medium  "
      ]
     },
     "execution_count": 13,
     "metadata": {},
     "output_type": "execute_result"
    }
   ],
   "source": [
    "df['sumamry'] = df.apply(write_summary, axis=1)\n",
    "df"
   ]
  },
  {
   "cell_type": "code",
   "execution_count": null,
   "metadata": {},
   "outputs": [],
   "source": []
  }
 ],
 "metadata": {
  "kernelspec": {
   "display_name": "Python 3",
   "language": "python",
   "name": "python3"
  },
  "language_info": {
   "codemirror_mode": {
    "name": "ipython",
    "version": 3
   },
   "file_extension": ".py",
   "mimetype": "text/x-python",
   "name": "python",
   "nbconvert_exporter": "python",
   "pygments_lexer": "ipython3",
   "version": "3.7.0"
  }
 },
 "nbformat": 4,
 "nbformat_minor": 2
}
