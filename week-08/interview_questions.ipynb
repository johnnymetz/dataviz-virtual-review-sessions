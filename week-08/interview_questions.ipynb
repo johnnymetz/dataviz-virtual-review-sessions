{
 "cells": [
  {
   "cell_type": "markdown",
   "metadata": {},
   "source": [
    "### Sum of even numbers in a list"
   ]
  },
  {
   "cell_type": "code",
   "execution_count": 1,
   "metadata": {},
   "outputs": [],
   "source": [
    "nums = [1, 2, 3, 4, 5, 6]"
   ]
  },
  {
   "cell_type": "code",
   "execution_count": 2,
   "metadata": {},
   "outputs": [
    {
     "data": {
      "text/plain": [
       "12"
      ]
     },
     "execution_count": 2,
     "metadata": {},
     "output_type": "execute_result"
    }
   ],
   "source": [
    "the_sum = 0\n",
    "for num in nums:\n",
    "    if num % 2 == 0:\n",
    "        the_sum += num\n",
    "        \n",
    "the_sum"
   ]
  },
  {
   "cell_type": "code",
   "execution_count": 3,
   "metadata": {},
   "outputs": [
    {
     "data": {
      "text/plain": [
       "12"
      ]
     },
     "execution_count": 3,
     "metadata": {},
     "output_type": "execute_result"
    }
   ],
   "source": [
    "sum([i for i in nums if i % 2 == 0])"
   ]
  },
  {
   "cell_type": "markdown",
   "metadata": {},
   "source": [
    "### Remove duplicates from a list"
   ]
  },
  {
   "cell_type": "code",
   "execution_count": 4,
   "metadata": {},
   "outputs": [],
   "source": [
    "lst = ['dog', 'cat', 'dog', 'pig', 'cat']"
   ]
  },
  {
   "cell_type": "code",
   "execution_count": 5,
   "metadata": {},
   "outputs": [
    {
     "data": {
      "text/plain": [
       "['dog', 'cat', 'pig']"
      ]
     },
     "execution_count": 5,
     "metadata": {},
     "output_type": "execute_result"
    }
   ],
   "source": [
    "# retains order\n",
    "result = []\n",
    "for item in lst:\n",
    "    if item not in result:\n",
    "        result.append(item)\n",
    "\n",
    "result"
   ]
  },
  {
   "cell_type": "code",
   "execution_count": 6,
   "metadata": {},
   "outputs": [
    {
     "data": {
      "text/plain": [
       "['pig', 'dog', 'cat']"
      ]
     },
     "execution_count": 6,
     "metadata": {},
     "output_type": "execute_result"
    }
   ],
   "source": [
    "# doesn't retain order\n",
    "list(set(lst))"
   ]
  },
  {
   "cell_type": "markdown",
   "metadata": {},
   "source": [
    "### Determine if all items in a list are equal"
   ]
  },
  {
   "cell_type": "code",
   "execution_count": 7,
   "metadata": {},
   "outputs": [],
   "source": [
    "lst1 = [5, 5, 5, 5, 5,]  # True\n",
    "lst2 = [5, 5, 5, 13, 5]  # False"
   ]
  },
  {
   "cell_type": "code",
   "execution_count": 8,
   "metadata": {},
   "outputs": [
    {
     "data": {
      "text/plain": [
       "True"
      ]
     },
     "execution_count": 8,
     "metadata": {},
     "output_type": "execute_result"
    }
   ],
   "source": [
    "# Method 1 (I read this is slower than method 2)\n",
    "len(set(lst1)) == 1"
   ]
  },
  {
   "cell_type": "code",
   "execution_count": 9,
   "metadata": {},
   "outputs": [
    {
     "data": {
      "text/plain": [
       "True"
      ]
     },
     "execution_count": 9,
     "metadata": {},
     "output_type": "execute_result"
    }
   ],
   "source": [
    "# Method 2\n",
    "all([i == lst1[0] for i in lst1])"
   ]
  },
  {
   "cell_type": "code",
   "execution_count": 10,
   "metadata": {},
   "outputs": [
    {
     "data": {
      "text/plain": [
       "True"
      ]
     },
     "execution_count": 10,
     "metadata": {},
     "output_type": "execute_result"
    }
   ],
   "source": [
    "# Method 3 (Garrett)\n",
    "equal = True\n",
    "for item in lst1:\n",
    "    if item != lst1[0]:\n",
    "        equal = False\n",
    "        break\n",
    "        \n",
    "equal"
   ]
  },
  {
   "cell_type": "code",
   "execution_count": 11,
   "metadata": {},
   "outputs": [
    {
     "data": {
      "text/plain": [
       "True"
      ]
     },
     "execution_count": 11,
     "metadata": {},
     "output_type": "execute_result"
    }
   ],
   "source": [
    "# Method 4 (Marina)\n",
    "import numpy as np\n",
    "all(np.array(lst1)==lst1[0])"
   ]
  },
  {
   "cell_type": "code",
   "execution_count": 12,
   "metadata": {},
   "outputs": [
    {
     "data": {
      "text/plain": [
       "True"
      ]
     },
     "execution_count": 12,
     "metadata": {},
     "output_type": "execute_result"
    }
   ],
   "source": [
    "# Method 5 (Marina)\n",
    "import pandas as pd\n",
    "pd.Series(lst1).nunique() == 1"
   ]
  },
  {
   "cell_type": "markdown",
   "metadata": {},
   "source": [
    "### Find the longest word in a string"
   ]
  },
  {
   "cell_type": "code",
   "execution_count": 13,
   "metadata": {},
   "outputs": [],
   "source": [
    "s = 'This is a long string I promise'"
   ]
  },
  {
   "cell_type": "code",
   "execution_count": 14,
   "metadata": {},
   "outputs": [
    {
     "name": "stdout",
     "output_type": "stream",
     "text": [
      "(7, 'promise')\n"
     ]
    }
   ],
   "source": [
    "# Method 1 (Garrett)\n",
    "result = []\n",
    "for item in s.split(' '):\n",
    "    result.append((len(item), item))\n",
    "    \n",
    "print(sorted(result, reverse=True)[0])"
   ]
  },
  {
   "cell_type": "code",
   "execution_count": 15,
   "metadata": {},
   "outputs": [
    {
     "name": "stdout",
     "output_type": "stream",
     "text": [
      "promise\n"
     ]
    }
   ],
   "source": [
    "# Method 2\n",
    "s = 'This is a long string I promise'\n",
    "sorted_words = sorted(s.split(' '), key=len, reverse=True)\n",
    "print(sorted_words[0])"
   ]
  },
  {
   "cell_type": "markdown",
   "metadata": {},
   "source": [
    "### CHALLENGE: Determine if two nums in list generate a given sum"
   ]
  },
  {
   "cell_type": "markdown",
   "metadata": {},
   "source": [
    "YouTube: https://www.youtube.com/watch?v=XKu_SEDAykw"
   ]
  },
  {
   "cell_type": "code",
   "execution_count": 16,
   "metadata": {},
   "outputs": [],
   "source": [
    "the_sum = 8\n",
    "lst1 = [4, 1, 4, 2]  # True\n",
    "lst2 = [3, 1, 9, 2]  # False"
   ]
  },
  {
   "cell_type": "code",
   "execution_count": 17,
   "metadata": {},
   "outputs": [
    {
     "name": "stdout",
     "output_type": "stream",
     "text": [
      "True\n",
      "False\n"
     ]
    }
   ],
   "source": [
    "def check_sum1(lst, the_sum):\n",
    "    \"\"\"For every iteration value, check every other value - SLOW\"\"\"\n",
    "    for i, v1 in enumerate(lst):\n",
    "        for j, v2 in enumerate(lst):\n",
    "            if j > i:\n",
    "                # print(f'{i} {j} | {v1} + {v2} = {v1 + v2}')\n",
    "                if v1 + v2 == the_sum:\n",
    "                    return True\n",
    "    return False\n",
    "\n",
    "print(check_sum1(lst1, the_sum))\n",
    "print(check_sum1(lst2, the_sum))"
   ]
  },
  {
   "cell_type": "code",
   "execution_count": 18,
   "metadata": {},
   "outputs": [
    {
     "name": "stdout",
     "output_type": "stream",
     "text": [
      "True\n",
      "False\n"
     ]
    }
   ],
   "source": [
    "def check_sum2(lst, the_sum):\n",
    "    \"\"\"Check low high bounds and converge based on their sum - FAST\"\"\"\n",
    "    lst.sort()\n",
    "    low_index = 0\n",
    "    high_index = len(lst) - 1\n",
    "    while low_index < high_index:\n",
    "        check_sum = lst[low_index] + lst[high_index]\n",
    "        # print(f'{lst[low_index]} + {lst[high_index]} = {check_sum}')\n",
    "        if check_sum == the_sum:\n",
    "            return True\n",
    "        elif check_sum < the_sum:\n",
    "            # print('bumping low index up...')\n",
    "            low_index += 1\n",
    "        else:\n",
    "            # print('bumping high index down...')\n",
    "            high_index -= 1\n",
    "    return False\n",
    "\n",
    "print(check_sum2(lst1, the_sum))\n",
    "print(check_sum2(lst2, the_sum))"
   ]
  },
  {
   "cell_type": "code",
   "execution_count": 19,
   "metadata": {},
   "outputs": [
    {
     "name": "stdout",
     "output_type": "stream",
     "text": [
      "True\n",
      "False\n"
     ]
    }
   ],
   "source": [
    "def check_sum3(lst, the_sum):\n",
    "    \"\"\"Append target values to a new list - FASTEST\"\"\"\n",
    "    compliment_list = []\n",
    "    for v in lst:\n",
    "        compliment = the_sum - v\n",
    "        if compliment in compliment_list:\n",
    "            return True\n",
    "        compliment_list.append(compliment)\n",
    "    return False\n",
    "\n",
    "print(check_sum3(lst1, the_sum))\n",
    "print(check_sum3(lst2, the_sum))"
   ]
  },
  {
   "cell_type": "code",
   "execution_count": null,
   "metadata": {},
   "outputs": [],
   "source": []
  }
 ],
 "metadata": {
  "kernelspec": {
   "display_name": "Python 3",
   "language": "python",
   "name": "python3"
  },
  "language_info": {
   "codemirror_mode": {
    "name": "ipython",
    "version": 3
   },
   "file_extension": ".py",
   "mimetype": "text/x-python",
   "name": "python",
   "nbconvert_exporter": "python",
   "pygments_lexer": "ipython3",
   "version": "3.7.0"
  }
 },
 "nbformat": 4,
 "nbformat_minor": 2
}
